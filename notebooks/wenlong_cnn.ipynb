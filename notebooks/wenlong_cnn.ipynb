{
 "cells": [
  {
   "cell_type": "code",
   "execution_count": 18,
   "metadata": {},
   "outputs": [],
   "source": [
    "# Import all relevant libraries\n",
    "import warnings\n",
    "def fxn(): \n",
    "\twarnings.warn(\"deprecated\",DeprecationWarning)\n",
    "\n",
    "with warnings.catch_warnings( ):\n",
    "    warnings.simplefilter(\"ignore\")\n",
    "    fxn( )\n",
    "\n",
    "# Keras imports\n",
    "import keras\n",
    "from keras.models import Sequential\n",
    "from keras.layers import Permute, Flatten, Softmax, Dense, Conv1D, Conv2D, Conv2DTranspose, AveragePooling2D, Activation, Reshape, Dropout\n",
    "\n",
    "# Other\n",
    "import numpy as np\n",
    "import matplotlib.pyplot as plt\n",
    "import h5py\n",
    "import sklearn\n",
    "from sklearn.model_selection import StratifiedKFold\n",
    "from sklearn import preprocessing"
   ]
  },
  {
   "cell_type": "code",
   "execution_count": 19,
   "metadata": {},
   "outputs": [],
   "source": [
    "# Load data from specific trial\n",
    "def get_trial(trial_num):    \n",
    "    trial = h5py.File('../data/A0' + str(trial_num) + 'T_slice.mat', 'r')\n",
    "    X = np.copy(trial['image'])\n",
    "    y = np.copy(trial['type'])\n",
    "    y = y[0,0:X.shape[0]:1]\n",
    "    y = np.asarray(y, dtype=np.int32)\n",
    "    y -= 769                            # shift class labels to [0-3]\n",
    "    X = np.nan_to_num(X)[:, :22, :]     # remove EOG channels\n",
    "    return X, y\n",
    "\n",
    "def get_all_trials():\n",
    "    X_total = np.concatenate([get_trial(trial_num)[0] for trial_num in range(1, 9)], axis=0)\n",
    "    y_total = np.concatenate([get_trial(trial_num)[1] for trial_num in range(1, 9)], axis=0)\n",
    "    return X_total, y_total\n",
    "\n",
    "def stratified_train_test_split(X, y, k):\n",
    "    ''' Returns a stratified train/test split, for k number of splits.\n",
    "    Return value is in the form [(train indices, test indices), ... for k folds ]\n",
    "    '''\n",
    "    skf = StratifiedKFold(n_splits=k)\n",
    "    return skf.split(X, y)"
   ]
  },
  {
   "cell_type": "code",
   "execution_count": 20,
   "metadata": {},
   "outputs": [],
   "source": [
    "num_folds = 5\n",
    "\n",
    "# Get the data from one person\n",
    "X, y = get_trial(1)\n",
    "num_trials = 1\n",
    "\n",
    "# Get the data from all the people\n",
    "X, y = get_all_trials()\n",
    "num_trials = 9\n",
    "\n",
    "# Generate train/test split\n",
    "y_cat = keras.utils.to_categorical(y, num_classes=4)\n",
    "tt_splits = stratified_train_test_split(X, y, num_folds)\n",
    "\n",
    "# The data for each trial is of the shape (288, 22, 1000)\n",
    "#   There are 288 samples per trial (12 of each class per \"run\", 4 classes, 6 \"runs\" \n",
    "#                                   at different time periods of the day)\n",
    "#   There are 22 electrodes from the EEG (represents spatial aspect of the signals)\n",
    "#   There are 1000 time units (4 seconds of data, sampled at 250Hz). The first 250 units\n",
    "#                                   are when no movement occurs (but the cue is heard) and\n",
    "#                                   the next 750 units are when the movement occurs\n",
    "# The labels for each trial belong in one of 4 classes\n",
    "#   0 - left\n",
    "#   1 - right\n",
    "#   2 - foot\n",
    "#   3 - tongue"
   ]
  },
  {
   "cell_type": "code",
   "execution_count": 21,
   "metadata": {},
   "outputs": [
    {
     "name": "stdout",
     "output_type": "stream",
     "text": [
      "(None, 22, 928, 40)\n",
      "(None, 40, 907, 1)\n",
      "(None, 40, 56, 1)\n",
      "(None, 4)\n"
     ]
    },
    {
     "data": {
      "text/plain": [
       "<keras.models.Sequential at 0x11d86e240>"
      ]
     },
     "execution_count": 21,
     "metadata": {},
     "output_type": "execute_result"
    }
   ],
   "source": [
    "# Create CNN model\n",
    "\n",
    "def make_CNN():\n",
    "    # input is of the form: (sample, spatial, temporal)\n",
    "    model = Sequential()\n",
    "\n",
    "    # Temporal convolution\n",
    "    model.add(Reshape((22, 1000, 1), input_shape=(22, 1000)))\n",
    "    model.add(Conv2D(filters=40, kernel_size=(1, 25), activation='elu', strides=1))\n",
    "    model.add(Dropout(0.2))\n",
    "    model.add(Conv2D(filters=40, kernel_size=(1, 25), activation='elu', strides=1))\n",
    "    model.add(Dropout(0.2))\n",
    "    model.add(Conv2D(filters=40, kernel_size=(1, 25), activation='elu', strides=1))\n",
    "    model.add(Dropout(0.2))\n",
    "    print(model.output_shape)\n",
    "\n",
    "    # Spatial convolution\n",
    "    model.add(Conv2D(filters=40, kernel_size=(22, 40), activation='elu', data_format=\"channels_first\"))\n",
    "    model.add(Dropout(0.5))\n",
    "    print(model.output_shape)\n",
    "\n",
    "    # Mean pool\n",
    "    model.add(AveragePooling2D(pool_size=(1,75), strides=(1,15)))\n",
    "    print(model.output_shape)\n",
    "\n",
    "    # Dense layers\n",
    "    model.add(Flatten())\n",
    "    model.add(Dense(units=200, activation='relu'))\n",
    "    model.add(Dropout(0.5))\n",
    "    model.add(Dense(units=4, activation='softmax'))\n",
    "    print(model.output_shape)\n",
    "\n",
    "    model.compile(loss='categorical_crossentropy',\n",
    "                  optimizer='adam',\n",
    "                  metrics=['accuracy'])\n",
    "    \n",
    "    return model\n",
    "\n",
    "make_CNN()"
   ]
  },
  {
   "cell_type": "code",
   "execution_count": null,
   "metadata": {},
   "outputs": [],
   "source": [
    "batch_size = 32\n",
    "num_epochs = 10\n",
    "val_split = 0.2\n",
    "\n",
    "avg_acc = 0\n",
    "for train_idx, test_idx in tt_splits:\n",
    "    X_train = X[train_idx]\n",
    "    y_train = y_cat[train_idx]\n",
    "    X_test = X[test_idx]\n",
    "    y_test = y_cat[test_idx]\n",
    "    \n",
    "    temp = np.reshape(X_train, (X_train.shape[0], -1))\n",
    "    X_train = np.reshape(preprocessing.scale(temp), X_train.shape)\n",
    "    \n",
    "    temp = np.reshape(X_test, (X_test.shape[0], -1))\n",
    "    X_test = np.reshape(preprocessing.normalize(temp), X_test.shape)\n",
    "    \n",
    "    model = make_CNN()\n",
    "    \n",
    "    history = model.fit(X_train, y_train, validation_split=val_split, epochs=num_epochs, batch_size=batch_size)\n",
    "    plt.plot(history.history['acc'])\n",
    "    plt.plot(history.history['val_acc'])\n",
    "    plt.title('model accuracy')\n",
    "    plt.ylabel('accuracy')\n",
    "    plt.xlabel('epoch')\n",
    "    plt.legend(['train', 'test'], loc='upper left')\n",
    "    plt.show()\n",
    "\n",
    "    metrics = model.evaluate(X_test, y_test, batch_size=batch_size)\n",
    "    avg_acc += metrics[0]\n",
    "    \n",
    "    print(metrics)\n",
    "    break\n",
    "\n",
    "avg_acc /= num_folds\n",
    "print(avg_acc)"
   ]
  },
  {
   "cell_type": "code",
   "execution_count": null,
   "metadata": {},
   "outputs": [],
   "source": []
  }
 ],
 "metadata": {
  "kernelspec": {
   "display_name": "ece239",
   "language": "python",
   "name": "ece239"
  },
  "language_info": {
   "codemirror_mode": {
    "name": "ipython",
    "version": 3
   },
   "file_extension": ".py",
   "mimetype": "text/x-python",
   "name": "python",
   "nbconvert_exporter": "python",
   "pygments_lexer": "ipython3",
   "version": "3.6.4"
  }
 },
 "nbformat": 4,
 "nbformat_minor": 2
}
