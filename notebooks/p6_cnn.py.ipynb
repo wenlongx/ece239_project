{
 "cells": [
  {
   "cell_type": "code",
   "execution_count": 6,
   "metadata": {},
   "outputs": [],
   "source": [
    "# Import all relevant libraries\n",
    "import warnings\n",
    "def fxn(): \n",
    "\twarnings.warn(\"deprecated\",DeprecationWarning)\n",
    "\n",
    "with warnings.catch_warnings( ):\n",
    "    warnings.simplefilter(\"ignore\")\n",
    "    fxn( )\n",
    "    \n",
    "import numpy as np\n",
    "import h5py\n",
    "\n",
    "# Keras imports\n",
    "import keras\n",
    "from keras.models import Sequential\n",
    "from keras.layers import Permute, Flatten, Softmax, Dense, Conv1D, Conv2D, Conv2DTranspose, AveragePooling2D, Activation, Reshape\n",
    "from keras.backend import permute_dimensions\n",
    "from keras.optimizers import Adam"
   ]
  },
  {
   "cell_type": "code",
   "execution_count": 26,
   "metadata": {},
   "outputs": [
    {
     "name": "stdout",
     "output_type": "stream",
     "text": [
      "(288, 22, 1000) (288, 4)\n"
     ]
    }
   ],
   "source": [
    "# Load data from specific trial\n",
    "def get_trial(trial_num):    \n",
    "    trial = h5py.File('../data/A0' + str(trial_num) + 'T_slice.mat', 'r')\n",
    "    X = np.copy(trial['image'])\n",
    "    y = np.copy(trial['type'])\n",
    "    y = y[0,0:X.shape[0]:1]\n",
    "    y = np.asarray(y, dtype=np.int32)\n",
    "    y -= 769                            # shift class labels to [0-3]\n",
    "    X = np.nan_to_num(X)[:, :22, :]     # remove EOG channels\n",
    "    return X, y\n",
    "\n",
    "''' \n",
    "for trial_num in xrange(1, 9):\n",
    "    X, y = get_trial(trial_num)\n",
    "'''\n",
    "\n",
    "# Get the data from the first person\n",
    "X, y = get_trial(1)\n",
    "X_train = X\n",
    "y_train = keras.utils.to_categorical(y, num_classes=4)\n",
    "print(X_train.shape, y_train.shape)\n",
    "\n",
    "# The data for each trial is of the shape (288, 22, 1000)\n",
    "#   There are 288 samples per trial (12 of each class per \"run\", 4 classes, 6 \"runs\" \n",
    "#                                   at different time periods of the day)\n",
    "#   There are 22 electrodes from the EEG (represents spatial aspect of the signals)\n",
    "#   There are 1000 time units (4 seconds of data, sampled at 250Hz). The first 250 units\n",
    "#                                   are when no movement occurs (but the cue is heard) and\n",
    "#                                   the next 750 units are when the movement occurs\n",
    "# The labels for each trial belong in one of 4 classes\n",
    "#   0 - left\n",
    "#   1 - right\n",
    "#   2 - foot\n",
    "#   3 - tongue"
   ]
  },
  {
   "cell_type": "code",
   "execution_count": 59,
   "metadata": {},
   "outputs": [
    {
     "name": "stdout",
     "output_type": "stream",
     "text": [
      "(None, 22, 976, 40)\n",
      "(None, 40, 955, 1)\n",
      "(None, 40, 59, 1)\n",
      "(None, 4)\n"
     ]
    }
   ],
   "source": [
    "# Create CNN model\n",
    "\n",
    "# input is of the form: (sample, spatial, temporal)\n",
    "model = Sequential()\n",
    "\n",
    "# Temporal convolution\n",
    "model.add(Reshape((22, 1000, 1), input_shape=(22, 1000)))\n",
    "model.add(Conv2D(filters=40, kernel_size=(1, 25), activation='elu', strides=1))\n",
    "print(model.output_shape)\n",
    "\n",
    "# Spatial convolution\n",
    "model.add(Conv2D(filters=40, kernel_size=(22, 40), activation='elu', data_format=\"channels_first\"))\n",
    "print(model.output_shape)\n",
    "\n",
    "# Mean pool\n",
    "model.add(AveragePooling2D(pool_size=(1,75), strides=(1,15)))\n",
    "print(model.output_shape)\n",
    "\n",
    "# Dense layers\n",
    "model.add(Flatten())\n",
    "model.add(Dense(units=400, kernel_initializer='glorot_normal'))\n",
    "model.add(Dense(units=200, kernel_initializer='glorot_normal'))\n",
    "model.add(Dense(units=4, kernel_initializer='glorot_normal'))\n",
    "print(model.output_shape)\n",
    "\n",
    "model.compile(loss='categorical_crossentropy',\n",
    "              optimizer=keras.optimizers.adam(lr=0.01),\n",
    "              metrics=['accuracy'])"
   ]
  },
  {
   "cell_type": "code",
   "execution_count": null,
   "metadata": {},
   "outputs": [
    {
     "name": "stdout",
     "output_type": "stream",
     "text": [
      "Epoch 1/5\n",
      "288/288 [==============================] - 63s 219ms/step - loss: 5.4196 - acc: 0.2431\n",
      "Epoch 2/5\n",
      "288/288 [==============================] - 66s 229ms/step - loss: 7.3567 - acc: 0.2257\n",
      "Epoch 3/5\n",
      "288/288 [==============================] - 60s 209ms/step - loss: 12.0886 - acc: 0.2639\n",
      "Epoch 4/5\n",
      "288/288 [==============================] - 63s 217ms/step - loss: 12.0886 - acc: 0.2500\n",
      "Epoch 5/5\n"
     ]
    }
   ],
   "source": [
    "model.fit(X_train, y_train, epochs=5, batch_size=32)"
   ]
  },
  {
   "cell_type": "code",
   "execution_count": null,
   "metadata": {},
   "outputs": [],
   "source": []
  }
 ],
 "metadata": {
  "kernelspec": {
   "display_name": "ece239",
   "language": "python",
   "name": "ece239"
  },
  "language_info": {
   "codemirror_mode": {
    "name": "ipython",
    "version": 3
   },
   "file_extension": ".py",
   "mimetype": "text/x-python",
   "name": "python",
   "nbconvert_exporter": "python",
   "pygments_lexer": "ipython3",
   "version": "3.6.4"
  }
 },
 "nbformat": 4,
 "nbformat_minor": 2
}
