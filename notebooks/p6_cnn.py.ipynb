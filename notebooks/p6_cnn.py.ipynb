{
 "cells": [
  {
   "cell_type": "code",
   "execution_count": null,
   "metadata": {},
   "outputs": [],
   "source": [
    "# Import all relevant libraries\n",
    "\n",
    "import warnings\n",
    "def fxn(): \n",
    "\twarnings.warn(\"deprecated\",DeprecationWarning)\n",
    "\n",
    "with warnings.catch_warnings( ):\n",
    "    warnings.simplefilter(\"ignore\")\n",
    "    fxn( )\n",
    "    \n",
    "import numpy as np\n",
    "import h5py"
   ]
  },
  {
   "cell_type": "code",
   "execution_count": null,
   "metadata": {},
   "outputs": [],
   "source": [
    "# Load data from specific trial\n",
    "def get_trial(trial_num):    \n",
    "    trial = h5py.File('../data/A0' + str(trial_num) + 'T_slice.mat', 'r')\n",
    "    X = np.copy(trial['image'])\n",
    "    y = np.copy(trial['type'])\n",
    "    y = y[0,0:X.shape[0]:1]\n",
    "    y = np.asarray(y, dtype=np.int32)\n",
    "    y -= 769                            # shift class labels to [0-3]\n",
    "    X = np.nan_to_num(X)[:, :22, :]     # remove EOG channels\n",
    "    return X, y\n",
    "\n",
    "''' \n",
    "for trial_num in xrange(1, 9):\n",
    "    X, y = get_trial(trial_num)\n",
    "'''\n",
    "\n",
    "X, y = get_trial(1)"
   ]
  },
  {
   "cell_type": "code",
   "execution_count": null,
   "metadata": {},
   "outputs": [],
   "source": [
    "print(X.shape)\n",
    "print(y.shape)\n",
    "print(y)"
   ]
  },
  {
   "cell_type": "code",
   "execution_count": null,
   "metadata": {},
   "outputs": [],
   "source": [
    "from keras.models import Sequential\n",
    "from keras.layers import Permute, Flatten, Softmax, Dense, Conv1D, Conv2D, Conv2DTranspose, AveragePooling2D, Activation, Reshape\n",
    "from keras.backend import permute_dimensions"
   ]
  },
  {
   "cell_type": "code",
   "execution_count": null,
   "metadata": {},
   "outputs": [],
   "source": [
    "model = Sequential()\n",
    "model.add(Conv2D(filters=40, kernel_size=(22,1), activation='elu', input_shape=(1000, 22, 1), strides=1, data_format=\"channels_last\"))\n",
    "print(model.output_shape)\n",
    "model.add(Permute((3, 2, 1)))\n",
    "print(model.output_shape)\n",
    "model.add(Conv2D(filters=40, kernel_size=(22, 1), activation='elu', data_format=\"channels_first\"))\n",
    "print(model.output_shape)\n",
    "model.add(Permute((3, 2, 1)))\n",
    "print(model.output_shape)\n",
    "model.add(AveragePooling2D(pool_size=(75,1), strides=(15,1)))\n",
    "print(model.output_shape)\n",
    "model.add(Flatten())\n",
    "model.add(Dense(units=4, kernel_initializer='glorot_normal'))\n",
    "print(model.output_shape)"
   ]
  },
  {
   "cell_type": "code",
   "execution_count": null,
   "metadata": {},
   "outputs": [],
   "source": [
    "from keras.optimizers import Adam\n",
    "Adam = Adam(lr=0.15)\n",
    "model.compile(optimizer='adam',\n",
    "              loss='sparse_categorical_crossentropy',\n",
    "              metrics=['accuracy'])"
   ]
  },
  {
   "cell_type": "code",
   "execution_count": null,
   "metadata": {
    "scrolled": true
   },
   "outputs": [],
   "source": [
    "one_hot = [[] for val in y]\n",
    "for idx, val in enumerate(y):\n",
    "    if val == 769:\n",
    "        cur = [1, 0, 0, 0]\n",
    "    elif val == 770:\n",
    "        cur = [0, 1, 0, 0]\n",
    "    elif val == 771:\n",
    "        cur = [0, 0, 1, 0]\n",
    "    else:\n",
    "        cur = [0, 0, 0, 1]\n",
    "    one_hot[idx] = cur\n",
    "one_hot = np.asarray(one_hot)\n",
    "print(one_hot.shape)\n",
    "print(X.shape)\n",
    "print(X.transpose(0, 2,1)[:, 0:22, :, None].shape)\n",
    "print(one_hot[0:22].shape)\n",
    "\n",
    "\n",
    "\n",
    "\n",
    "model.fit(X.transpose(0,2,1)[:, :, 0:22, None], y, epochs=10, batch_size=128)"
   ]
  },
  {
   "cell_type": "code",
   "execution_count": null,
   "metadata": {},
   "outputs": [],
   "source": []
  }
 ],
 "metadata": {
  "kernelspec": {
   "display_name": "ece239",
   "language": "python",
   "name": "ece239"
  },
  "language_info": {
   "codemirror_mode": {
    "name": "ipython",
    "version": 3
   },
   "file_extension": ".py",
   "mimetype": "text/x-python",
   "name": "python",
   "nbconvert_exporter": "python",
   "pygments_lexer": "ipython3",
   "version": "3.6.4"
  }
 },
 "nbformat": 4,
 "nbformat_minor": 2
}
