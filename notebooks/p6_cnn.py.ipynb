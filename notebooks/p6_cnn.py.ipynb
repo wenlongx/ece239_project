{
 "cells": [
  {
   "cell_type": "code",
   "execution_count": 79,
   "metadata": {},
   "outputs": [],
   "source": [
    "# Import all relevant libraries\n",
    "import warnings\n",
    "def fxn(): \n",
    "\twarnings.warn(\"deprecated\",DeprecationWarning)\n",
    "\n",
    "with warnings.catch_warnings( ):\n",
    "    warnings.simplefilter(\"ignore\")\n",
    "    fxn( )\n",
    "\n",
    "# Keras imports\n",
    "import keras\n",
    "from keras.models import Sequential\n",
    "from keras.layers import Permute, Flatten, Softmax, Dense, Conv1D, Conv2D, Conv2DTranspose, AveragePooling2D, Activation, Reshape, Dropout\n",
    "\n",
    "# Other\n",
    "import numpy as np\n",
    "import h5py\n",
    "import sklearn"
   ]
  },
  {
   "cell_type": "code",
   "execution_count": 85,
   "metadata": {},
   "outputs": [
    {
     "name": "stdout",
     "output_type": "stream",
     "text": [
      "(2304, 22, 1000) (2304,)\n"
     ]
    }
   ],
   "source": [
    "# Load data from specific trial\n",
    "def get_trial(trial_num):    \n",
    "    trial = h5py.File('../data/A0' + str(trial_num) + 'T_slice.mat', 'r')\n",
    "    X = np.copy(trial['image'])\n",
    "    y = np.copy(trial['type'])\n",
    "    y = y[0,0:X.shape[0]:1]\n",
    "    y = np.asarray(y, dtype=np.int32)\n",
    "    y -= 769                            # shift class labels to [0-3]\n",
    "    X = np.nan_to_num(X)[:, :22, :]     # remove EOG channels\n",
    "    return X, y\n",
    "\n",
    "def get_all_trials():\n",
    "    X_total = np.concatenate([get_trial(trial_num)[0] for trial_num in range(1, 9)], axis=0)\n",
    "    y_total = np.concatenate([get_trial(trial_num)[1] for trial_num in range(1, 9)], axis=0)\n",
    "    return X_total, y_total\n",
    "\n",
    "def stratified_train_test_split(X, y, k):\n",
    "    ''' Returns a stratified train/test split, for k number of splits.\n",
    "    Return value is in the form [(train indices, test indices), ... for k folds ]\n",
    "    '''\n",
    "    skf = sklearn.model_selection.StratifiedKFold(n_splits=k)\n",
    "    return skf.split(X, y)"
   ]
  },
  {
   "cell_type": "code",
   "execution_count": 62,
   "metadata": {},
   "outputs": [
    {
     "name": "stdout",
     "output_type": "stream",
     "text": [
      "[3 2 1 0 0 1 2 3 1 2 0 0 0 3 1 1 0 0 2 0 1 3 3 2 0 3 3 1 3 3 1 0 1 2 2 2 3\n",
      " 2 0 3 1 2 1 2 3 1 2 0 0 0 3 1 0 2 0 2 1 3 0 2 2 0 2 1 3 3 3 2 0 3 1 3 1 0\n",
      " 2 1 0 2 2 0 2 3 3 1 0 1 3 1 3 2 1 1 1 2 3 0 1 3 0 2 2 3 0 0 2 1 3 3 3 1 0\n",
      " 2 1 3 0 3 2 1 3 3 0 1 1 2 3 1 0 0 3 1 0 2 1 1 2 0 3 2 2 2 2 0 1 0 1 0 0 2\n",
      " 2 1 2 3 0 3 0 0 1 3 2 1 3 2 3 2 3 1 1 3 0 1 1 1 2 3 0 3 0 2 0 3 0 2 0 1 2\n",
      " 2 3 0 1 3 1 2 2 0 3 1 3 0 0 2 2 1 3 1 1 0 1 3 3 1 1 1 1 3 3 2 3 0 1 2 1 0\n",
      " 3 0 3 0 0 0 0 2 2 3 1 2 2 2 3 2 0 2 0 3 1 3 3 2 3 3 2 1 3 2 0 1 1 1 2 1 3\n",
      " 2 3 1 2 0 3 0 2 3 0 2 0 1 1 0 3 0 3 2 2 0 2 1 1 0 2 0 1 0]\n",
      "(288, 22, 1000) (288, 4)\n"
     ]
    }
   ],
   "source": [
    "# Get the data from the first person\n",
    "X, y = get_trial(1)\n",
    "\n",
    "X_train = X\n",
    "y_train = keras.utils.to_categorical(y, num_classes=4)\n",
    "print(X_train.shape, y_train.shape)\n",
    "\n",
    "# The data for each trial is of the shape (288, 22, 1000)\n",
    "#   There are 288 samples per trial (12 of each class per \"run\", 4 classes, 6 \"runs\" \n",
    "#                                   at different time periods of the day)\n",
    "#   There are 22 electrodes from the EEG (represents spatial aspect of the signals)\n",
    "#   There are 1000 time units (4 seconds of data, sampled at 250Hz). The first 250 units\n",
    "#                                   are when no movement occurs (but the cue is heard) and\n",
    "#                                   the next 750 units are when the movement occurs\n",
    "# The labels for each trial belong in one of 4 classes\n",
    "#   0 - left\n",
    "#   1 - right\n",
    "#   2 - foot\n",
    "#   3 - tongue"
   ]
  },
  {
   "cell_type": "code",
   "execution_count": 71,
   "metadata": {},
   "outputs": [
    {
     "name": "stdout",
     "output_type": "stream",
     "text": [
      "[[0. 0. 0. 1.]\n",
      " [0. 0. 1. 0.]\n",
      " [0. 1. 0. 0.]\n",
      " ...\n",
      " [1. 0. 0. 0.]\n",
      " [0. 1. 0. 0.]\n",
      " [1. 0. 0. 0.]]\n"
     ]
    }
   ],
   "source": [
    "print(y_train)"
   ]
  },
  {
   "cell_type": "code",
   "execution_count": 82,
   "metadata": {},
   "outputs": [
    {
     "name": "stdout",
     "output_type": "stream",
     "text": [
      "(None, 22, 976, 40)\n",
      "(None, 40, 955, 1)\n",
      "(None, 40, 59, 1)\n",
      "(None, 4)\n"
     ]
    }
   ],
   "source": [
    "# Create CNN model\n",
    "\n",
    "# input is of the form: (sample, spatial, temporal)\n",
    "model = Sequential()\n",
    "\n",
    "# Temporal convolution\n",
    "model.add(Reshape((22, 1000, 1), input_shape=(22, 1000)))\n",
    "model.add(Conv2D(filters=40, kernel_size=(1, 25), activation='elu', strides=1))\n",
    "print(model.output_shape)\n",
    "\n",
    "# Spatial convolution\n",
    "model.add(Conv2D(filters=40, kernel_size=(22, 40), activation='elu', data_format=\"channels_first\"))\n",
    "print(model.output_shape)\n",
    "\n",
    "# Mean pool\n",
    "model.add(AveragePooling2D(pool_size=(1,75), strides=(1,15)))\n",
    "print(model.output_shape)\n",
    "\n",
    "# Dense layers\n",
    "model.add(Flatten())\n",
    "model.add(Dense(units=400, activation='relu'))\n",
    "model.add(Dropout(0.5))\n",
    "model.add(Dense(units=200, activation='relu'))\n",
    "model.add(Dropout(0.5))\n",
    "model.add(Dense(units=4, activation='softmax'))\n",
    "print(model.output_shape)\n",
    "\n",
    "model.compile(loss='categorical_crossentropy',\n",
    "              optimizer='SGD',\n",
    "              metrics=['accuracy'])"
   ]
  },
  {
   "cell_type": "code",
   "execution_count": 83,
   "metadata": {},
   "outputs": [
    {
     "name": "stdout",
     "output_type": "stream",
     "text": [
      "Epoch 1/3\n",
      "288/288 [==============================] - 68s 236ms/step - loss: 2.9147 - acc: 0.2222\n",
      "Epoch 2/3\n",
      "288/288 [==============================] - 58s 202ms/step - loss: 1.7158 - acc: 0.2361\n",
      "Epoch 3/3\n",
      "288/288 [==============================] - 61s 210ms/step - loss: 1.6107 - acc: 0.2743\n"
     ]
    },
    {
     "data": {
      "text/plain": [
       "<keras.callbacks.History at 0x13fe89940>"
      ]
     },
     "execution_count": 83,
     "metadata": {},
     "output_type": "execute_result"
    }
   ],
   "source": [
    "model.fit(X_train, y_train, epochs=3, batch_size=32)"
   ]
  },
  {
   "cell_type": "code",
   "execution_count": null,
   "metadata": {},
   "outputs": [],
   "source": []
  }
 ],
 "metadata": {
  "kernelspec": {
   "display_name": "ece239",
   "language": "python",
   "name": "ece239"
  },
  "language_info": {
   "codemirror_mode": {
    "name": "ipython",
    "version": 3
   },
   "file_extension": ".py",
   "mimetype": "text/x-python",
   "name": "python",
   "nbconvert_exporter": "python",
   "pygments_lexer": "ipython3",
   "version": "3.6.4"
  }
 },
 "nbformat": 4,
 "nbformat_minor": 2
}
