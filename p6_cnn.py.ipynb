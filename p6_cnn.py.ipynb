{
 "cells": [
  {
   "cell_type": "code",
   "execution_count": 5,
   "metadata": {},
   "outputs": [],
   "source": [
    "import warnings\n",
    "def fxn(): \n",
    "\twarnings.warn(\"deprecated\",DeprecationWarning)\n",
    "\n",
    "with warnings.catch_warnings( ):\n",
    "    warnings.simplefilter(\"ignore\")\n",
    "    fxn( )\n",
    "\n",
    "import numpy as np\n",
    "import h5py"
   ]
  },
  {
   "cell_type": "code",
   "execution_count": 6,
   "metadata": {},
   "outputs": [
    {
     "name": "stdout",
     "output_type": "stream",
     "text": [
      "(288, 25, 1000)\n",
      "(288,)\n"
     ]
    }
   ],
   "source": [
    "# Load data\n",
    "A01T = h5py.File('data/A01T_slice.mat', 'r')\n",
    "X = np.copy(A01T['image'])\n",
    "y = np.copy(A01T['type'])\n",
    "y = y[0,0:X.shape[0]:1]\n",
    "y = np.asarray(y, dtype=np.int32)\n",
    "X = np.nan_to_num(X)\n",
    "print(X.shape)\n",
    "print(y.shape)"
   ]
  },
  {
   "cell_type": "code",
   "execution_count": 14,
   "metadata": {},
   "outputs": [
    {
     "name": "stdout",
     "output_type": "stream",
     "text": [
      "(230, 25, 1000)\n"
     ]
    }
   ],
   "source": [
    "# Preprocess Input\n",
    "y -= 769\n",
    "# Split data into Train, test\n",
    "from sklearn.model_selection import train_test_split\n",
    "X_train, X_test, y_train, y_test = train_test_split(X, y, test_size = 0.2) \n",
    "print(X_train.shape)"
   ]
  },
  {
   "cell_type": "code",
   "execution_count": 4,
   "metadata": {},
   "outputs": [
    {
     "name": "stderr",
     "output_type": "stream",
     "text": [
      "Using TensorFlow backend.\n"
     ]
    }
   ],
   "source": [
    "\n",
    "from keras.utils import np_utils\n",
    "one_hot_train = np_utils.to_categorical(y_train, 4)\n",
    "one_hot_test = np_utils.to_categorical(y_test, 4)\n"
   ]
  },
  {
   "cell_type": "code",
   "execution_count": 11,
   "metadata": {},
   "outputs": [
    {
     "name": "stderr",
     "output_type": "stream",
     "text": [
      "Using TensorFlow backend.\n"
     ]
    }
   ],
   "source": [
    "from keras.models import Sequential\n",
    "from keras.layers import BatchNormalization, MaxPooling2D, Permute, Flatten, Softmax, Dense, Dropout, Conv1D, Conv2D, Conv2DTranspose, AveragePooling1D, AveragePooling2D, Activation, Reshape\n",
    "from keras.backend import permute_dimensions"
   ]
  },
  {
   "cell_type": "code",
   "execution_count": null,
   "metadata": {},
   "outputs": [],
   "source": [
    "# Naive implementation\n",
    "num_layers = 2\n",
    "model = Sequential()\n",
    "for _ in np.arange(num_layers):\n",
    "    model.add(Conv1D(filters = 20, kernel_size = 10, activation = 'elu', input_shape = (1000,22)))\n",
    "model.add(AveragePooling1D(pool_size=(75), strides=(15)))\n",
    "model.add(Dropout(0.5))\n",
    "model.add(Flatten())\n",
    "model.add(Dense(units=4, activation = 'softmax'))\n",
    "\n",
    "\n",
    "from keras.optimizers import Adam\n",
    "Adam = Adam(lr=0.15)\n",
    "model.compile(optimizer='adam',\n",
    "              loss='categorical_crossentropy',\n",
    "              metrics=['accuracy'])\n",
    "\n",
    "\n",
    "\n",
    "X_train = X_train.transpose((0,2,1))\n",
    "X_train = X_train[:, :, 0:22]\n",
    "\n",
    "X_test = X_test.transpose((0,2,1))\n",
    "X_test = X_test[:, :, 0:22]\n",
    "\n",
    "\n",
    "model.fit(X_train , one_hot_train, epochs=30, batch_size=32)\n",
    "score = model.evaluate(X_test, one_hot_test, verbose=0)\n",
    "print(score)\n"
   ]
  },
  {
   "cell_type": "code",
   "execution_count": 6,
   "metadata": {},
   "outputs": [
    {
     "name": "stdout",
     "output_type": "stream",
     "text": [
      "(None, 330, 25, 1)\n",
      "(None, 107, 50, 1)\n",
      "(None, 32, 100, 1)\n",
      "(None, 7, 200, 1)\n",
      "(None, 4)\n"
     ]
    }
   ],
   "source": [
    "# Deep Implementation CNN\n",
    "\n",
    "model = Sequential()\n",
    "\n",
    "# Conv Pool Block 1\n",
    "model.add(Conv2D(filters=25, kernel_size=(10,1), input_shape=(1000, 22, 1), strides=1, data_format=\"channels_last\"))\n",
    "model.add(BatchNormalization())\n",
    "model.add(Activation(activation = 'elu'))\n",
    "          \n",
    "model.add(Conv2D(filters = 25, kernel_size = (1,22), activation = 'elu'))\n",
    "model.add(Permute((1,3,2)))\n",
    "model.add(BatchNormalization())\n",
    "model.add(MaxPooling2D(pool_size = (3,1), strides = (3,1)))\n",
    "model.add(Dropout(0.5))\n",
    "print(model.output_shape)\n",
    "\n",
    "# Conv Pool Block 2\n",
    "model.add(Conv2D(filters = 50, kernel_size = (10,25), activation = 'elu'))\n",
    "model.add(Permute((1,3,2)))\n",
    "model.add(BatchNormalization())\n",
    "model.add(MaxPooling2D(pool_size = (3,1), strides = (3,1)))\n",
    "model.add(Dropout(0.5))\n",
    "print(model.output_shape)\n",
    "\n",
    "# Conv Pool Block 3\n",
    "model.add(Conv2D(filters = 100, kernel_size = (10,50), activation = 'elu'))\n",
    "model.add(Permute((1,3,2)))\n",
    "model.add(BatchNormalization())\n",
    "model.add(MaxPooling2D(pool_size = (3,1), strides = (3,1)))\n",
    "model.add(Dropout(0.5))\n",
    "print(model.output_shape)\n",
    "\n",
    "# Conv Pool Block 4\n",
    "model.add(Conv2D(filters = 200, kernel_size = (10,100), activation = 'elu'))\n",
    "model.add(Permute((1,3,2)))\n",
    "model.add(BatchNormalization())\n",
    "model.add(MaxPooling2D(pool_size = (3,1), strides = (3,1)))\n",
    "model.add(Dropout(0.5))\n",
    "print(model.output_shape)\n",
    "\n",
    "# Dense Layers\n",
    "model.add(Flatten())\n",
    "model.add(Dense(units=4, kernel_initializer='glorot_normal', activation = 'softmax'))\n",
    "print(model.output_shape)\n",
    "\n",
    "\n",
    "\n",
    "\n",
    "\n",
    "\n",
    "\n",
    "\n",
    "\n"
   ]
  },
  {
   "cell_type": "code",
   "execution_count": null,
   "metadata": {},
   "outputs": [],
   "source": [
    "# Shallow CNN\n",
    "model = Sequential()\n",
    "model.add(Conv2D(filters=40, kernel_size=(22,1), activation='elu', input_shape=(1000, 22, 1), strides=1, data_format=\"channels_last\"))\n",
    "print(model.output_shape)\n",
    "model.add(Permute((3, 2, 1)))\n",
    "print(model.output_shape)\n",
    "model.add(Conv2D(filters=40, kernel_size=(22, 1), activation='elu', data_format=\"channels_first\"))\n",
    "print(model.output_shape)\n",
    "model.add(Permute((3, 2, 1)))\n",
    "print(model.output_shape)\n",
    "model.add(AveragePooling2D(pool_size=(75,1), strides=(15,1)))\n",
    "print(model.output_shape)\n",
    "model.add(Flatten())\n",
    "model.add(Dense(units=4, kernel_initializer='glorot_normal', activation = 'softmax'))\n",
    "print(model.output_shape)"
   ]
  },
  {
   "cell_type": "code",
   "execution_count": 8,
   "metadata": {
    "collapsed": true
   },
   "outputs": [],
   "source": [
    "from keras.optimizers import Adam\n",
    "Adam = Adam(lr=0.15)\n",
    "model.compile(optimizer='adam',\n",
    "              loss='categorical_crossentropy',\n",
    "              metrics=['accuracy'])"
   ]
  },
  {
   "cell_type": "code",
   "execution_count": 9,
   "metadata": {
    "scrolled": true
   },
   "outputs": [
    {
     "name": "stdout",
     "output_type": "stream",
     "text": [
      "Epoch 1/50\n",
      "230/230 [==============================] - 8s 35ms/step - loss: 4.1340 - acc: 0.2348\n",
      "Epoch 2/50\n",
      "230/230 [==============================] - 7s 28ms/step - loss: 2.2076 - acc: 0.2783\n",
      "Epoch 3/50\n",
      "230/230 [==============================] - 7s 28ms/step - loss: 1.9284 - acc: 0.2870\n",
      "Epoch 4/50\n",
      "230/230 [==============================] - 6s 27ms/step - loss: 1.7634 - acc: 0.3261\n",
      "Epoch 5/50\n",
      "230/230 [==============================] - 6s 28ms/step - loss: 1.7621 - acc: 0.3130\n",
      "Epoch 6/50\n",
      "230/230 [==============================] - 8s 33ms/step - loss: 1.7926 - acc: 0.2696\n",
      "Epoch 7/50\n",
      "230/230 [==============================] - 8s 34ms/step - loss: 1.5169 - acc: 0.3652\n",
      "Epoch 8/50\n",
      "230/230 [==============================] - 7s 30ms/step - loss: 1.6196 - acc: 0.4087\n",
      "Epoch 9/50\n",
      "230/230 [==============================] - 7s 29ms/step - loss: 1.5430 - acc: 0.4087\n",
      "Epoch 10/50\n",
      "230/230 [==============================] - 7s 29ms/step - loss: 1.5359 - acc: 0.4000\n",
      "Epoch 11/50\n",
      "230/230 [==============================] - 8s 33ms/step - loss: 1.3474 - acc: 0.3826\n",
      "Epoch 12/50\n",
      "230/230 [==============================] - 7s 30ms/step - loss: 1.3129 - acc: 0.4522\n",
      "Epoch 13/50\n",
      "230/230 [==============================] - 8s 36ms/step - loss: 1.2724 - acc: 0.4609\n",
      "Epoch 14/50\n",
      "230/230 [==============================] - 10s 43ms/step - loss: 1.4302 - acc: 0.4739\n",
      "Epoch 15/50\n",
      "230/230 [==============================] - 7s 30ms/step - loss: 1.1237 - acc: 0.5217\n",
      "Epoch 16/50\n",
      "230/230 [==============================] - 6s 28ms/step - loss: 1.1737 - acc: 0.5391\n",
      "Epoch 17/50\n",
      "230/230 [==============================] - 7s 29ms/step - loss: 0.9708 - acc: 0.5957\n",
      "Epoch 18/50\n",
      "230/230 [==============================] - 7s 32ms/step - loss: 0.9657 - acc: 0.6391\n",
      "Epoch 19/50\n",
      "230/230 [==============================] - 7s 30ms/step - loss: 0.8160 - acc: 0.6739\n",
      "Epoch 20/50\n",
      "230/230 [==============================] - 7s 30ms/step - loss: 0.8116 - acc: 0.6957\n",
      "Epoch 21/50\n",
      "230/230 [==============================] - 7s 29ms/step - loss: 0.7609 - acc: 0.6913\n",
      "Epoch 22/50\n",
      "230/230 [==============================] - 7s 30ms/step - loss: 0.6355 - acc: 0.7826\n",
      "Epoch 23/50\n",
      "230/230 [==============================] - 6s 28ms/step - loss: 0.7419 - acc: 0.7348\n",
      "Epoch 24/50\n",
      "230/230 [==============================] - 7s 29ms/step - loss: 0.5930 - acc: 0.7217\n",
      "Epoch 25/50\n",
      "230/230 [==============================] - 6s 28ms/step - loss: 0.6970 - acc: 0.7565\n",
      "Epoch 26/50\n",
      "230/230 [==============================] - 7s 32ms/step - loss: 0.5926 - acc: 0.7652\n",
      "Epoch 27/50\n",
      "230/230 [==============================] - 7s 32ms/step - loss: 0.5526 - acc: 0.7652\n",
      "Epoch 28/50\n",
      "230/230 [==============================] - 7s 30ms/step - loss: 0.5281 - acc: 0.7826\n",
      "Epoch 29/50\n",
      "230/230 [==============================] - 7s 30ms/step - loss: 0.4622 - acc: 0.8217\n",
      "Epoch 30/50\n",
      "230/230 [==============================] - 7s 29ms/step - loss: 0.3887 - acc: 0.8478\n",
      "Epoch 31/50\n",
      "230/230 [==============================] - 7s 29ms/step - loss: 0.4024 - acc: 0.8304\n",
      "Epoch 32/50\n",
      "230/230 [==============================] - 7s 31ms/step - loss: 0.3870 - acc: 0.8348\n",
      "Epoch 33/50\n",
      "230/230 [==============================] - 8s 34ms/step - loss: 0.3076 - acc: 0.8826\n",
      "Epoch 34/50\n",
      "230/230 [==============================] - 7s 29ms/step - loss: 0.4160 - acc: 0.8217\n",
      "Epoch 35/50\n",
      "230/230 [==============================] - 7s 28ms/step - loss: 0.4705 - acc: 0.8043\n",
      "Epoch 36/50\n",
      "230/230 [==============================] - 7s 29ms/step - loss: 0.3366 - acc: 0.8783\n",
      "Epoch 37/50\n",
      "230/230 [==============================] - 7s 29ms/step - loss: 0.3562 - acc: 0.8522\n",
      "Epoch 38/50\n",
      "230/230 [==============================] - 7s 28ms/step - loss: 0.2984 - acc: 0.8826\n",
      "Epoch 39/50\n",
      "230/230 [==============================] - 6s 28ms/step - loss: 0.2898 - acc: 0.8913\n",
      "Epoch 40/50\n",
      "230/230 [==============================] - 6s 28ms/step - loss: 0.3765 - acc: 0.8348\n",
      "Epoch 41/50\n",
      "230/230 [==============================] - 6s 28ms/step - loss: 0.3408 - acc: 0.8696\n",
      "Epoch 42/50\n",
      "230/230 [==============================] - 6s 28ms/step - loss: 0.3200 - acc: 0.8609\n",
      "Epoch 43/50\n",
      "230/230 [==============================] - 6s 28ms/step - loss: 0.4529 - acc: 0.8087\n",
      "Epoch 44/50\n",
      "230/230 [==============================] - 6s 28ms/step - loss: 0.3126 - acc: 0.8826\n",
      "Epoch 45/50\n",
      "230/230 [==============================] - 6s 27ms/step - loss: 0.3095 - acc: 0.8696\n",
      "Epoch 46/50\n",
      "230/230 [==============================] - 6s 28ms/step - loss: 0.2961 - acc: 0.8783\n",
      "Epoch 47/50\n",
      "230/230 [==============================] - 6s 28ms/step - loss: 0.2609 - acc: 0.8957\n",
      "Epoch 48/50\n",
      "230/230 [==============================] - 7s 28ms/step - loss: 0.2769 - acc: 0.8826\n",
      "Epoch 49/50\n",
      "230/230 [==============================] - 7s 28ms/step - loss: 0.2586 - acc: 0.9043\n",
      "Epoch 50/50\n",
      "230/230 [==============================] - 6s 28ms/step - loss: 0.1727 - acc: 0.9435\n"
     ]
    },
    {
     "data": {
      "text/plain": [
       "<keras.callbacks.History at 0x11f344590>"
      ]
     },
     "execution_count": 9,
     "metadata": {},
     "output_type": "execute_result"
    }
   ],
   "source": [
    "model.fit(X_train.transpose(0,2,1)[:, :, 0:22, None], one_hot_train, epochs=50, batch_size=32)"
   ]
  },
  {
   "cell_type": "code",
   "execution_count": null,
   "metadata": {
    "collapsed": true
   },
   "outputs": [],
   "source": [
    "X_train = X_train.transpose((0,2,1))\n",
    "X_train = X_train[:, :, 0:22, None]\n",
    "\n",
    "X_test = X_test.transpose((0,2,1))\n",
    "X_test = X_test[:, :, 0:22, None]"
   ]
  },
  {
   "cell_type": "code",
   "execution_count": null,
   "metadata": {},
   "outputs": [],
   "source": [
    "\n",
    "score = model.evaluate(X_test, one_hot_test, verbose=0)\n",
    "print(score)\n"
   ]
  },
  {
   "cell_type": "code",
   "execution_count": 26,
   "metadata": {
    "scrolled": true
   },
   "outputs": [
    {
     "name": "stdout",
     "output_type": "stream",
     "text": [
      "(None, 979, 22, 40)\n",
      "(None, 40, 22, 979)\n",
      "(None, 40, 1, 979)\n",
      "(None, 979, 1, 40)\n",
      "(None, 61, 1, 40)\n",
      "(None, 4)\n",
      "Train on 182 samples, validate on 46 samples\n",
      "Epoch 1/10\n",
      "182/182 [==============================] - 10s 57ms/step - loss: 1.3907 - acc: 0.2857 - val_loss: 1.3482 - val_acc: 0.3261\n",
      "Epoch 2/10\n",
      "182/182 [==============================] - 10s 55ms/step - loss: 1.3060 - acc: 0.4560 - val_loss: 1.3361 - val_acc: 0.3043\n",
      "Epoch 3/10\n",
      "182/182 [==============================] - 11s 58ms/step - loss: 1.2333 - acc: 0.4780 - val_loss: 1.3225 - val_acc: 0.3043\n",
      "Epoch 4/10\n",
      "182/182 [==============================] - 10s 55ms/step - loss: 1.1932 - acc: 0.4835 - val_loss: 1.3426 - val_acc: 0.3478\n",
      "Epoch 5/10\n",
      "182/182 [==============================] - 10s 56ms/step - loss: 1.1642 - acc: 0.5055 - val_loss: 1.3621 - val_acc: 0.3478\n",
      "Epoch 6/10\n",
      "182/182 [==============================] - 11s 62ms/step - loss: 1.1234 - acc: 0.5549 - val_loss: 1.3607 - val_acc: 0.2609\n",
      "Epoch 7/10\n",
      "182/182 [==============================] - 11s 59ms/step - loss: 1.0913 - acc: 0.5879 - val_loss: 1.3625 - val_acc: 0.2826\n",
      "Epoch 8/10\n",
      "182/182 [==============================] - 10s 57ms/step - loss: 1.0547 - acc: 0.6044 - val_loss: 1.3556 - val_acc: 0.3261\n",
      "Epoch 9/10\n",
      "182/182 [==============================] - 10s 56ms/step - loss: 1.0149 - acc: 0.6264 - val_loss: 1.3680 - val_acc: 0.2826\n",
      "Epoch 10/10\n",
      "182/182 [==============================] - 11s 60ms/step - loss: 0.9623 - acc: 0.6429 - val_loss: 1.4005 - val_acc: 0.3043\n"
     ]
    },
    {
     "data": {
      "image/png": "[encoded data removed]",
      "text/plain": [
       "<matplotlib.figure.Figure at 0x10e822f28>"
      ]
     },
     "metadata": {},
     "output_type": "display_data"
    },
    {
     "name": "stdout",
     "output_type": "stream",
     "text": [
      "60/60 [==============================] - 1s 25ms/step\n",
      "[1.3829423189163208, 0.30000001192092896]\n",
      "0.2765884637832642\n"
     ]
    }
   ],
   "source": [
    "from sklearn.model_selection import StratifiedKFold\n",
    "import keras\n",
    "from sklearn import preprocessing\n",
    "import matplotlib.pyplot as plt\n",
    "num_folds = 5\n",
    "def stratified_train_test_split(X, y, k):\n",
    "    ''' Returns a stratified train/test split, for k number of splits.\n",
    "    Return value is in the form [(train indices, test indices), ... for k folds ]\n",
    "    '''\n",
    "    skf = StratifiedKFold(n_splits=k)\n",
    "    return skf.split(X, y)\n",
    "\n",
    "tt_splits = stratified_train_test_split(X, y, num_folds)\n",
    "y_cat = keras.utils.to_categorical(y, num_classes=4)\n",
    "\n",
    "batch_size = 128\n",
    "num_epochs = 10\n",
    "val_split = 0.2\n",
    "avg_acc = 0\n",
    "for train_idx, test_idx in tt_splits:\n",
    "    X_train = X[train_idx]\n",
    "    y_train = y_cat[train_idx]\n",
    "    X_test = X[test_idx]\n",
    "    y_test = y_cat[test_idx]\n",
    "    \n",
    "    X_train = X_train.transpose((0,2,1))\n",
    "    X_train = X_train[:, :, 0:22, None]\n",
    "\n",
    "    X_test = X_test.transpose((0,2,1))\n",
    "    X_test = X_test[:, :, 0:22, None]\n",
    "    \n",
    "    temp = np.reshape(X_train, (X_train.shape[0], -1))\n",
    "    X_train = np.reshape(preprocessing.scale(temp), X_train.shape)\n",
    "    \n",
    "    temp = np.reshape(X_test, (X_test.shape[0], -1))\n",
    "    X_test = np.reshape(preprocessing.normalize(temp), X_test.shape)\n",
    "    \n",
    "    model = Sequential()\n",
    "    model.add(Conv2D(filters=40, kernel_size=(22,1), activation='elu', input_shape=(1000, 22, 1), strides=1, data_format=\"channels_last\"))\n",
    "    print(model.output_shape)\n",
    "    model.add(Permute((3, 2, 1)))\n",
    "    print(model.output_shape)\n",
    "    model.add(Conv2D(filters=40, kernel_size=(22, 1), activation='elu', data_format=\"channels_first\"))\n",
    "    print(model.output_shape)\n",
    "    model.add(Permute((3, 2, 1)))\n",
    "    print(model.output_shape)\n",
    "    model.add(AveragePooling2D(pool_size=(75,1), strides=(15,1)))\n",
    "    print(model.output_shape)\n",
    "    model.add(Flatten())\n",
    "    model.add(Dense(units=4, kernel_initializer='glorot_normal', activation = 'softmax'))\n",
    "    print(model.output_shape)\n",
    "    from keras.optimizers import Adam\n",
    "    Adam = Adam(lr=0.001)\n",
    "    model.compile(optimizer='adam',\n",
    "                  loss='categorical_crossentropy',\n",
    "                  metrics=['accuracy'])\n",
    "    \n",
    "    \n",
    "\n",
    "    \n",
    "    history = model.fit(X_train, y_train, validation_split=val_split, epochs=num_epochs, batch_size=batch_size)\n",
    "    plt.plot(history.history['acc'])\n",
    "    plt.plot(history.history['val_acc'])\n",
    "    plt.title('model accuracy')\n",
    "    plt.ylabel('accuracy')\n",
    "    plt.xlabel('epoch')\n",
    "    plt.legend(['train', 'test'], loc='upper left')\n",
    "    plt.show()\n",
    "\n",
    "    metrics = model.evaluate(X_test, y_test, batch_size=batch_size)\n",
    "    avg_acc += metrics[0]\n",
    "    \n",
    "    print(metrics)\n",
    "    break\n",
    "\n",
    "avg_acc /= num_folds\n",
    "print(avg_acc)"
   ]
  },
  {
   "cell_type": "code",
   "execution_count": null,
   "metadata": {},
   "outputs": [],
   "source": []
  }
 ],
 "metadata": {
  "kernelspec": {
   "display_name": "Python 3",
   "language": "python",
   "name": "python3"
  },
  "language_info": {
   "codemirror_mode": {
    "name": "ipython",
    "version": 3
   },
   "file_extension": ".py",
   "mimetype": "text/x-python",
   "name": "python",
   "nbconvert_exporter": "python",
   "pygments_lexer": "ipython3",
   "version": "3.6.4"
  }
 },
 "nbformat": 4,
 "nbformat_minor": 2
}
