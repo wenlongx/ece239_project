{
 "cells": [
  {
   "cell_type": "code",
   "execution_count": 10,
   "metadata": {},
   "outputs": [],
   "source": [
    "import warnings\n",
    "def fxn(): \n",
    "\twarnings.warn(\"deprecated\",DeprecationWarning)\n",
    "\n",
    "with warnings.catch_warnings( ):\n",
    "    warnings.simplefilter(\"ignore\")\n",
    "    fxn( )\n",
    "    \n",
    "import numpy as np\n",
    "import h5py"
   ]
  },
  {
   "cell_type": "code",
   "execution_count": 11,
   "metadata": {},
   "outputs": [],
   "source": [
    "A01T = h5py.File('A01T_slice.mat', 'r')\n",
    "X = np.copy(A01T['image'])\n",
    "y = np.copy(A01T['type'])\n",
    "y = y[0,0:X.shape[0]:1]\n",
    "y = np.asarray(y, dtype=np.int32)\n",
    "X = np.nan_to_num(X)"
   ]
  },
  {
   "cell_type": "code",
   "execution_count": 12,
   "metadata": {},
   "outputs": [
    {
     "name": "stdout",
     "output_type": "stream",
     "text": [
      "(288, 25, 1000)\n",
      "(288,)\n",
      "[3 2 1 0 0 1 2 3 1 2 0 0 0 3 1 1 0 0 2 0 1 3 3 2 0 3 3 1 3 3 1 0 1 2 2 2 3\n",
      " 2 0 3 1 2 1 2 3 1 2 0 0 0 3 1 0 2 0 2 1 3 0 2 2 0 2 1 3 3 3 2 0 3 1 3 1 0\n",
      " 2 1 0 2 2 0 2 3 3 1 0 1 3 1 3 2 1 1 1 2 3 0 1 3 0 2 2 3 0 0 2 1 3 3 3 1 0\n",
      " 2 1 3 0 3 2 1 3 3 0 1 1 2 3 1 0 0 3 1 0 2 1 1 2 0 3 2 2 2 2 0 1 0 1 0 0 2\n",
      " 2 1 2 3 0 3 0 0 1 3 2 1 3 2 3 2 3 1 1 3 0 1 1 1 2 3 0 3 0 2 0 3 0 2 0 1 2\n",
      " 2 3 0 1 3 1 2 2 0 3 1 3 0 0 2 2 1 3 1 1 0 1 3 3 1 1 1 1 3 3 2 3 0 1 2 1 0\n",
      " 3 0 3 0 0 0 0 2 2 3 1 2 2 2 3 2 0 2 0 3 1 3 3 2 3 3 2 1 3 2 0 1 1 1 2 1 3\n",
      " 2 3 1 2 0 3 0 2 3 0 2 0 1 1 0 3 0 3 2 2 0 2 1 1 0 2 0 1 0]\n"
     ]
    }
   ],
   "source": [
    "print(X.shape)\n",
    "print(y.shape)\n",
    "y -= 769\n",
    "print(y)"
   ]
  },
  {
   "cell_type": "code",
   "execution_count": 13,
   "metadata": {},
   "outputs": [],
   "source": [
    "from keras.models import Sequential\n",
    "from keras.layers import Permute, Flatten, Softmax, Dense, Conv1D, Conv2D, Conv2DTranspose, AveragePooling2D, Activation, Reshape\n",
    "from keras.backend import permute_dimensions"
   ]
  },
  {
   "cell_type": "code",
   "execution_count": 14,
   "metadata": {},
   "outputs": [
    {
     "name": "stdout",
     "output_type": "stream",
     "text": [
      "(None, 979, 22, 40)\n",
      "(None, 40, 22, 979)\n",
      "(None, 40, 1, 979)\n",
      "(None, 979, 1, 40)\n",
      "(None, 61, 1, 40)\n",
      "(None, 4)\n"
     ]
    }
   ],
   "source": [
    "model = Sequential()\n",
    "model.add(Conv2D(filters=40, kernel_size=(22,1), activation='elu', input_shape=(1000, 22, 1), strides=1, data_format=\"channels_last\"))\n",
    "print(model.output_shape)\n",
    "model.add(Permute((3, 2, 1)))\n",
    "print(model.output_shape)\n",
    "model.add(Conv2D(filters=40, kernel_size=(22, 1), activation='elu', data_format=\"channels_first\"))\n",
    "print(model.output_shape)\n",
    "model.add(Permute((3, 2, 1)))\n",
    "print(model.output_shape)\n",
    "model.add(AveragePooling2D(pool_size=(75,1), strides=(15,1)))\n",
    "print(model.output_shape)\n",
    "model.add(Flatten())\n",
    "model.add(Dense(units=4, kernel_initializer='glorot_normal'))\n",
    "print(model.output_shape)"
   ]
  },
  {
   "cell_type": "code",
   "execution_count": null,
   "metadata": {},
   "outputs": [],
   "source": [
    "from keras.optimizers import Adam\n",
    "Adam = Adam(lr=0.15)\n",
    "model.compile(optimizer='adam',\n",
    "              loss='sparse_categorical_crossentropy',\n",
    "              metrics=['accuracy'])"
   ]
  },
  {
   "cell_type": "code",
   "execution_count": null,
   "metadata": {
    "scrolled": true
   },
   "outputs": [
    {
     "name": "stdout",
     "output_type": "stream",
     "text": [
      "(288, 4)\n",
      "(288, 25, 1000)\n",
      "(288, 22, 25, 1)\n",
      "(22, 4)\n",
      "Epoch 1/10\n",
      "288/288 [==============================] - 14s 47ms/step - loss: 1.3863 - acc: 0.2500\n",
      "Epoch 2/10\n",
      "288/288 [==============================] - 14s 50ms/step - loss: 1.3863 - acc: 0.2500\n",
      "Epoch 3/10\n",
      "288/288 [==============================] - 15s 51ms/step - loss: 1.3863 - acc: 0.2500\n",
      "Epoch 4/10\n",
      "288/288 [==============================] - 15s 53ms/step - loss: 1.3863 - acc: 0.2500\n",
      "Epoch 5/10\n"
     ]
    }
   ],
   "source": [
    "one_hot = [[] for val in y]\n",
    "for idx, val in enumerate(y):\n",
    "    if val == 769:\n",
    "        cur = [1, 0, 0, 0]\n",
    "    elif val == 770:\n",
    "        cur = [0, 1, 0, 0]\n",
    "    elif val == 771:\n",
    "        cur = [0, 0, 1, 0]\n",
    "    else:\n",
    "        cur = [0, 0, 0, 1]\n",
    "    one_hot[idx] = cur\n",
    "one_hot = np.asarray(one_hot)\n",
    "print(one_hot.shape)\n",
    "print(X.shape)\n",
    "print(X.transpose(0, 2,1)[:, 0:22, :, None].shape)\n",
    "print(one_hot[0:22].shape)\n",
    "\n",
    "\n",
    "\n",
    "\n",
    "model.fit(X.transpose(0,2,1)[:, :, 0:22, None], y, epochs=10, batch_size=128)"
   ]
  },
  {
   "cell_type": "code",
   "execution_count": null,
   "metadata": {},
   "outputs": [],
   "source": []
  }
 ],
 "metadata": {
  "kernelspec": {
   "display_name": "Python 3",
   "language": "python",
   "name": "python3"
  },
  "language_info": {
   "codemirror_mode": {
    "name": "ipython",
    "version": 3
   },
   "file_extension": ".py",
   "mimetype": "text/x-python",
   "name": "python",
   "nbconvert_exporter": "python",
   "pygments_lexer": "ipython3",
   "version": "3.6.4"
  }
 },
 "nbformat": 4,
 "nbformat_minor": 2
}
